{
 "cells": [
  {
   "cell_type": "markdown",
   "metadata": {},
   "source": [
    "Question 1"
   ]
  },
  {
   "cell_type": "markdown",
   "metadata": {},
   "source": [
    "Answer is RAINBOW"
   ]
  },
  {
   "cell_type": "markdown",
   "metadata": {},
   "source": [
    "Question 2"
   ]
  },
  {
   "cell_type": "code",
   "execution_count": 1,
   "metadata": {},
   "outputs": [],
   "source": [
    "#print letsupgrade in upper case"
   ]
  },
  {
   "cell_type": "code",
   "execution_count": 2,
   "metadata": {},
   "outputs": [
    {
     "name": "stdout",
     "output_type": "stream",
     "text": [
      "LETS UPGRADE\n"
     ]
    }
   ],
   "source": [
    "print(\"LETS UPGRADE\")"
   ]
  },
  {
   "cell_type": "markdown",
   "metadata": {},
   "source": [
    "Question 3"
   ]
  },
  {
   "cell_type": "code",
   "execution_count": 3,
   "metadata": {},
   "outputs": [],
   "source": [
    "#chech the profit and loss"
   ]
  },
  {
   "cell_type": "code",
   "execution_count": 10,
   "metadata": {},
   "outputs": [
    {
     "name": "stdout",
     "output_type": "stream",
     "text": [
      "50\n",
      "40\n",
      "Loss\n"
     ]
    }
   ],
   "source": [
    "Cost_price = int(input(\"\"))\n",
    "Sell_price = int(input(\"\"))\n",
    "Loss = \"Loss\"\n",
    "Profit = \"Profit\"\n",
    "Neither = \"Neither\"\n",
    "if Cost_price>Sell_price:\n",
    "    print(Loss)\n",
    "elif Cost_price < Sell_price:\n",
    "    print(Profit)\n",
    "else:\n",
    "    print(Neither)"
   ]
  },
  {
   "cell_type": "code",
   "execution_count": 11,
   "metadata": {},
   "outputs": [
    {
     "name": "stdout",
     "output_type": "stream",
     "text": [
      "90\n",
      "120\n",
      "Profit\n"
     ]
    }
   ],
   "source": [
    "Cost_price = int(input(\"\"))\n",
    "Sell_price = int(input(\"\"))\n",
    "Loss = \"Loss\"\n",
    "Profit = \"Profit\"\n",
    "Neither = \"Neither\"\n",
    "if Cost_price>Sell_price:\n",
    "    print(Loss)\n",
    "elif Cost_price < Sell_price:\n",
    "    print(Profit)\n",
    "else:\n",
    "    print(Neither)"
   ]
  },
  {
   "cell_type": "code",
   "execution_count": 9,
   "metadata": {},
   "outputs": [
    {
     "name": "stdout",
     "output_type": "stream",
     "text": [
      "50\n",
      "50\n",
      "Neither\n"
     ]
    }
   ],
   "source": [
    "Cost_price = int(input(\"\"))\n",
    "Sell_price = int(input(\"\"))\n",
    "Loss = \"Loss\"\n",
    "Profit = \"Profit\"\n",
    "Neither = \"Neither\"\n",
    "if Cost_price>Sell_price:\n",
    "    print(Loss)\n",
    "elif Cost_price < Sell_price:\n",
    "    print(Profit)\n",
    "else:\n",
    "    print(Neither)"
   ]
  },
  {
   "cell_type": "markdown",
   "metadata": {},
   "source": [
    "Qustion 4"
   ]
  },
  {
   "cell_type": "code",
   "execution_count": 12,
   "metadata": {},
   "outputs": [],
   "source": [
    "#converter euros to rupee"
   ]
  },
  {
   "cell_type": "code",
   "execution_count": 13,
   "metadata": {},
   "outputs": [
    {
     "name": "stdout",
     "output_type": "stream",
     "text": [
      "20\n",
      "1600\n"
     ]
    }
   ],
   "source": [
    "Euros = int(input(\"\"))\n",
    "Rupee = 80*Euros\n",
    "print(Rupee)"
   ]
  },
  {
   "cell_type": "code",
   "execution_count": 14,
   "metadata": {},
   "outputs": [
    {
     "name": "stdout",
     "output_type": "stream",
     "text": [
      "50\n",
      "4000\n"
     ]
    }
   ],
   "source": [
    "Euros = int(input(\"\"))\n",
    "Rupee = 80*Euros\n",
    "print(Rupee)"
   ]
  },
  {
   "cell_type": "code",
   "execution_count": 15,
   "metadata": {},
   "outputs": [
    {
     "name": "stdout",
     "output_type": "stream",
     "text": [
      "80\n",
      "6400\n"
     ]
    }
   ],
   "source": [
    "Euros = int(input(\"\"))\n",
    "Rupee = 80*Euros\n",
    "print(Rupee)"
   ]
  },
  {
   "cell_type": "code",
   "execution_count": null,
   "metadata": {},
   "outputs": [],
   "source": []
  }
 ],
 "metadata": {
  "kernelspec": {
   "display_name": "Python 3",
   "language": "python",
   "name": "python3"
  },
  "language_info": {
   "codemirror_mode": {
    "name": "ipython",
    "version": 3
   },
   "file_extension": ".py",
   "mimetype": "text/x-python",
   "name": "python",
   "nbconvert_exporter": "python",
   "pygments_lexer": "ipython3",
   "version": "3.8.3"
  }
 },
 "nbformat": 4,
 "nbformat_minor": 4
}
